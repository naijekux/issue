{
 "cells": [
  {
   "cell_type": "code",
   "execution_count": 1,
   "id": "f45842ca-f415-4884-acf3-b2ede508d5fa",
   "metadata": {},
   "outputs": [
    {
     "name": "stdout",
     "output_type": "stream",
     "text": [
      "Thu Mar 21 11:56:34 2024       \n",
      "+---------------------------------------------------------------------------------------+\n",
      "| NVIDIA-SMI 545.29.06              Driver Version: 545.29.06    CUDA Version: 12.3     |\n",
      "|-----------------------------------------+----------------------+----------------------+\n",
      "| GPU  Name                 Persistence-M | Bus-Id        Disp.A | Volatile Uncorr. ECC |\n",
      "| Fan  Temp   Perf          Pwr:Usage/Cap |         Memory-Usage | GPU-Util  Compute M. |\n",
      "|                                         |                      |               MIG M. |\n",
      "|=========================================+======================+======================|\n",
      "|   0  NVIDIA GeForce RTX 4080        Off | 00000000:01:00.0  On |                  N/A |\n",
      "| 40%   65C    P2             233W / 320W |  12816MiB / 16376MiB |    100%      Default |\n",
      "|                                         |                      |                  N/A |\n",
      "+-----------------------------------------+----------------------+----------------------+\n",
      "                                                                                         \n",
      "+---------------------------------------------------------------------------------------+\n",
      "| Processes:                                                                            |\n",
      "|  GPU   GI   CI        PID   Type   Process name                            GPU Memory |\n",
      "|        ID   ID                                                             Usage      |\n",
      "|=======================================================================================|\n",
      "|    0   N/A  N/A      1510      G   /usr/lib/xorg/Xorg                           56MiB |\n",
      "|    0   N/A  N/A      1665      G   /usr/bin/gnome-shell                         10MiB |\n",
      "|    0   N/A  N/A    464567    C+G   ...ejian/anaconda3/envs/mjx/bin/python    12732MiB |\n",
      "+---------------------------------------------------------------------------------------+\n",
      "Setting environment variable to use GPU rendering:\n",
      "env: MUJOCO_GL=egl\n",
      "Checking that the installation succeeded:\n",
      "Installation successful.\n",
      "Nvidia CUDA Compiler:\n",
      "nvcc: NVIDIA (R) Cuda compiler driver\n",
      "Copyright (c) 2005-2023 NVIDIA Corporation\n",
      "Built on Wed_Nov_22_10:17:15_PST_2023\n",
      "Cuda compilation tools, release 12.3, V12.3.107\n",
      "Build cuda_12.3.r12.3/compiler.33567101_0\n"
     ]
    }
   ],
   "source": [
    "#@title Check if MuJoCo installation was successful\n",
    "\n",
    "import distutils.util\n",
    "import os\n",
    "import subprocess\n",
    "if subprocess.run('nvidia-smi').returncode:\n",
    "  raise RuntimeError(\n",
    "      'Cannot communicate with GPU. '\n",
    "      'Make sure you are using a GPU Colab runtime. '\n",
    "      'Go to the Runtime menu and select Choose runtime type.')\n",
    "\n",
    "# Add an ICD config so that glvnd can pick up the Nvidia EGL driver.\n",
    "# This is usually installed as part of an Nvidia driver package, but the Colab\n",
    "# kernel doesn't install its driver via APT, and as a result the ICD is missing.\n",
    "# (https://github.com/NVIDIA/libglvnd/blob/master/src/EGL/icd_enumeration.md)\n",
    "NVIDIA_ICD_CONFIG_PATH = '/usr/share/glvnd/egl_vendor.d/10_nvidia.json'\n",
    "if not os.path.exists(NVIDIA_ICD_CONFIG_PATH):\n",
    "  with open(NVIDIA_ICD_CONFIG_PATH, 'w') as f:\n",
    "    f.write(\"\"\"{\n",
    "    \"file_format_version\" : \"1.0.0\",\n",
    "    \"ICD\" : {\n",
    "        \"library_path\" : \"libEGL_nvidia.so.0\"\n",
    "    }\n",
    "}\n",
    "\"\"\")\n",
    "\n",
    "# Configure MuJoCo to use the EGL rendering backend (requires GPU)\n",
    "print('Setting environment variable to use GPU rendering:')\n",
    "%env MUJOCO_GL=egl\n",
    "\n",
    "try:\n",
    "  print('Checking that the installation succeeded:')\n",
    "  import mujoco\n",
    "  mujoco.MjModel.from_xml_string('<mujoco/>')\n",
    "except Exception as e:\n",
    "  raise e from RuntimeError(\n",
    "      'Something went wrong during installation. Check the shell output above '\n",
    "      'for more information.\\n'\n",
    "      'If using a hosted Colab runtime, make sure you enable GPU acceleration '\n",
    "      'by going to the Runtime menu and selecting \"Choose runtime type\".')\n",
    "\n",
    "print('Installation successful.')\n",
    "print('Nvidia CUDA Compiler:')\n",
    "!nvcc --version"
   ]
  },
  {
   "cell_type": "code",
   "execution_count": 2,
   "id": "e92b9a13-c933-4bd6-88c0-08bfc3d1c9a8",
   "metadata": {},
   "outputs": [],
   "source": [
    "#@title Import packages for plotting and creating graphics\n",
    "import time\n",
    "import itertools\n",
    "import numpy as np\n",
    "from typing import Callable, NamedTuple, Optional, Union, List\n",
    "\n",
    "import mediapy as media\n",
    "import matplotlib.pyplot as plt\n",
    "\n",
    "# More legible printing from numpy.\n",
    "np.set_printoptions(precision=3, suppress=True, linewidth=100)\n",
    "\n",
    "#@title Import MuJoCo, MJX, and Brax\n",
    "from datetime import datetime\n",
    "import functools\n",
    "from IPython.display import HTML\n",
    "import jax\n",
    "from jax import numpy as jp\n",
    "from jax import config, debug\n",
    "config.update(\"jax_debug_nans\", True)\n",
    "config.update('jax_default_matmul_precision', jax.lax.Precision.HIGH)\n",
    "import numpy as np\n",
    "from typing import Any, Dict, Sequence, Tuple, Union\n",
    "\n",
    "from brax import base\n",
    "from brax import envs\n",
    "from brax import math\n",
    "from brax.base import Base, Motion, Transform\n",
    "from brax.envs.base import Env, PipelineEnv, State\n",
    "from brax.mjx.base import State as MjxState\n",
    "from brax.training.agents.ppo import train as ppo\n",
    "from brax.training.agents.ppo import networks as ppo_networks\n",
    "from brax.io import html, mjcf, model\n",
    "\n",
    "from etils import epath\n",
    "from flax import struct\n",
    "from matplotlib import pyplot as plt\n",
    "import mediapy as media\n",
    "from ml_collections import config_dict\n",
    "import mujoco\n",
    "from mujoco import mjx\n",
    "\n",
    "import os\n",
    "# os.environ[\"XLA_PYTHON_CLIENT_MEM_FRACTION\"]=\".50\""
   ]
  },
  {
   "cell_type": "markdown",
   "id": "302634c7-0a80-4aeb-aaef-9527d4f9e2a7",
   "metadata": {},
   "source": [
    "## Visualize Panda Robot"
   ]
  },
  {
   "cell_type": "code",
   "execution_count": 3,
   "id": "a1b8be53-191a-4a19-b053-b990f59a34db",
   "metadata": {},
   "outputs": [
    {
     "data": {
      "text/html": [
       "<table class=\"show_images\" style=\"border-spacing:0px;\"><tr><td style=\"padding:1px;\"><img width=\"320\" height=\"240\" style=\"image-rendering:auto; object-fit:cover;\" src=\"data:image/png;base64,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\"/></td></tr></table>"
      ],
      "text/plain": [
       "<IPython.core.display.HTML object>"
      ]
     },
     "metadata": {},
     "output_type": "display_data"
    }
   ],
   "source": [
    "model = mujoco.MjModel.from_xml_path(\"scene.xml\")\n",
    "data = mujoco.MjData(model)\n",
    "\n",
    "renderer = mujoco.Renderer(model)\n",
    "mujoco.mj_step(model, data)\n",
    "\n",
    "renderer.update_scene(data)\n",
    "media.show_image(renderer.render())"
   ]
  },
  {
   "cell_type": "code",
   "execution_count": 4,
   "id": "1913e775-b13b-4640-aac7-4ea08351b5b6",
   "metadata": {},
   "outputs": [
    {
     "data": {
      "text/html": [
       "<table class=\"show_images\" style=\"border-spacing:0px;\"><tr><td style=\"padding:1px;\"><img width=\"320\" height=\"240\" style=\"image-rendering:auto; object-fit:cover;\" src=\"data:image/png;base64,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\"/></td></tr></table>"
      ],
      "text/plain": [
       "<IPython.core.display.HTML object>"
      ]
     },
     "metadata": {},
     "output_type": "display_data"
    }
   ],
   "source": [
    "# Change integrator to RK4, because conversion to mjx is not possible for default implicit \n",
    "model.opt.integrator = mujoco.mjtIntegrator.mjINT_RK4\n",
    "# Create MJX instances from MuJoCo\n",
    "mjx_model = mjx.put_model(model)\n",
    "mjx_data = mjx.put_data(model, data)\n",
    "\n",
    "render_mjx_data = mjx.get_data(model, mjx_data)\n",
    "renderer.update_scene(render_mjx_data) \n",
    "media.show_image(renderer.render())"
   ]
  },
  {
   "cell_type": "markdown",
   "id": "b4367522-e13b-475a-b114-44dbb8209856",
   "metadata": {},
   "source": [
    "## Create MJX Environment for RL"
   ]
  },
  {
   "cell_type": "code",
   "execution_count": 5,
   "id": "785cc6b4-d12e-4ea8-86b9-62e302e3a219",
   "metadata": {},
   "outputs": [],
   "source": [
    "class FrankaEnv(PipelineEnv):\n",
    "\n",
    "    def __init__(\n",
    "        self,\n",
    "        **kwargs,\n",
    "        ):\n",
    "        model_path =\"scene.xml\"      \n",
    "        mj_model = mujoco.MjModel.from_xml_path(model_path)\n",
    "        # mj_model.opt.solver = mujoco.mjtSolver.mjSOL_CG\n",
    "        # mj_model.opt.iterations = 6\n",
    "        # mj_model.opt.ls_iterations = 6\n",
    "        # mj_model.opt.integrator = mujoco.mjtIntegrator.mjINT_RK4\n",
    "        sys = mjcf.load_model(mj_model)\n",
    "        \n",
    "        physics_steps_per_control_step = 5\n",
    "        kwargs['n_frames'] = kwargs.get(\n",
    "                'n_frames', physics_steps_per_control_step)\n",
    "        kwargs['backend'] = 'mjx'\n",
    "\n",
    "        super().__init__(sys, **kwargs)\n",
    "        \n",
    "    \n",
    "    def reset(self, rng: jp.ndarray) -> State:\n",
    "        \"\"\"Resets the environment to an initial state.\"\"\"\n",
    "        rng, rng1, rng2 = jax.random.split(rng, 3)\n",
    "        \n",
    "        qpos = self.sys.qpos0\n",
    "\n",
    "        goal_pos = jp.asarray([0.0, 0.0])\n",
    "        cylinder_pos = jp.concatenate([\n",
    "                    jax.random.uniform(rng, (1,), minval=-0.2, maxval=-1e-6),\n",
    "                    jax.random.uniform(rng1, (1,), minval=-0.15, maxval=0.15),\n",
    "        ])\n",
    "        norm = jp.linalg.norm(cylinder_pos - goal_pos)\n",
    "        scale = jp.where(norm < 0.17, 0.17 / norm, 1.0)\n",
    "        cylinder_pos *= scale\n",
    "        \n",
    "        qpos = qpos.at[-4:].set(jp.concatenate([cylinder_pos, goal_pos]))\n",
    "        \n",
    "        qvel = jax.random.uniform(rng2, (self.sys.nv,), minval=-0.005, maxval=0.005)\n",
    "        qvel = qvel.at[-4:].set(0.0)\n",
    "        \n",
    "        data = self.pipeline_init(qpos, qvel)\n",
    "        obs = self._get_obs(data)\n",
    "        reward, done, zero = jp.zeros(3)\n",
    "        metrics = {\n",
    "            \"reward_dist\": zero,\n",
    "            \"reward_ctrl\": zero,\n",
    "            \"reward_near\": zero,\n",
    "        }\n",
    "        # print('reset')\n",
    "        return State(data, obs, reward, done, metrics)\n",
    "    \n",
    "\n",
    "    \n",
    "    def step(self, state: State, action: jp.ndarray) -> State:\n",
    "        data0 = state.pipeline_state\n",
    "\n",
    "        vec_1 = data0.xpos[-2,:] - data0.xpos[-3,:]\n",
    "        vec_2 = data0.xpos[-2,:] - data0.xpos[-1,:]\n",
    "        reward_near = -jp.linalg.norm(vec_1)\n",
    "        reward_dist = -jp.linalg.norm(vec_2)\n",
    "        reward_ctrl = -jp.square(action).sum()\n",
    "        reward = reward_dist + 0.1 * reward_ctrl + 0.5 * reward_near\n",
    "        \n",
    "        data = self.pipeline_step(state.pipeline_state, action)\n",
    "\n",
    "        obs = self._get_obs(data)\n",
    "        \n",
    "        state.metrics.update(\n",
    "            reward_dist = reward_dist,\n",
    "            reward_ctrl = reward_ctrl,\n",
    "            reward_near = reward_near,         \n",
    "        )\n",
    "        # print('step ends')\n",
    "        # debug.print(\"vec_1:{x}\",x=vec_1)\n",
    "        # debug.print(\"reward_near:{x}\",x=reward_near)\n",
    "        # debug.print(\"q:{x}\",x=data.qpos[:7])\n",
    "        # debug.print(\"goal_pos:{x}\",x=data0.xpos[-1,:])\n",
    "        return state.replace(pipeline_state=data, obs=obs, reward=reward)\n",
    "\n",
    "    def _get_obs(self, data: mjx.Data) -> jp.ndarray:\n",
    "        return jp.concatenate([\n",
    "            data.qpos[:7],\n",
    "            data.qvel[:7],\n",
    "            data.xpos[-3,:],                       # attachment #\n",
    "            data.xpos[-2,:],                       # object #\n",
    "            data.xpos[-1,:],                       # goal #\n",
    "        ])\n",
    "        \n",
    "envs.register_environment('frankaenv', FrankaEnv)"
   ]
  },
  {
   "cell_type": "code",
   "execution_count": 6,
   "id": "a79ee254-016f-4b3d-9180-384f7609f65f",
   "metadata": {},
   "outputs": [],
   "source": [
    "# instantiate the environment\n",
    "env_name = 'frankaenv'\n",
    "env = envs.get_environment(env_name)\n",
    "\n",
    "# define the jit reset/step functions\n",
    "jit_reset = jax.jit(env.reset)\n",
    "jit_step = jax.jit(env.step)"
   ]
  },
  {
   "cell_type": "code",
   "execution_count": 16,
   "id": "3dd2896a-4ff5-4aa8-9b3f-de47bea4ac1d",
   "metadata": {},
   "outputs": [
    {
     "data": {
      "image/png": "[encoded data removed]",
      "text/plain": [
       "<Figure size 640x480 with 1 Axes>"
      ]
     },
     "metadata": {},
     "output_type": "display_data"
    }
   ],
   "source": [
    "train_fn = functools.partial(\n",
    "    ppo.train, num_timesteps=50_000_000, num_evals=20, reward_scaling=5, \n",
    "    episode_length=1000, normalize_observations=True, action_repeat=1, \n",
    "    unroll_length=30, num_minibatches=16, num_updates_per_batch=8, \n",
    "    discounting=0.95, learning_rate=3e-4, entropy_cost=1e-2, num_envs=2048, \n",
    "    batch_size=512, seed=3)\n",
    "\n",
    "\n",
    "x_data = []\n",
    "y_data = []\n",
    "ydataerr = []\n",
    "times = [datetime.now()]\n",
    "\n",
    "max_y, min_y = 0, -1000\n",
    "def progress(num_steps, metrics):\n",
    "  times.append(datetime.now())\n",
    "  x_data.append(num_steps)\n",
    "  y_data.append(metrics['eval/episode_reward'])\n",
    "  ydataerr.append(metrics['eval/episode_reward_std'])\n",
    "\n",
    "  plt.xlim([0, train_fn.keywords['num_timesteps'] * 1.25])\n",
    "  plt.ylim([min_y, max_y])\n",
    "\n",
    "  plt.xlabel('# environment steps')\n",
    "  plt.ylabel('reward per episode')\n",
    "  plt.title(f'y={y_data[-1]:.3f}')\n",
    "\n",
    "  plt.errorbar(\n",
    "      x_data, y_data, yerr=ydataerr)\n",
    "  plt.show()\n",
    "\n",
    "make_inference_fn, params, _= train_fn(environment=env, progress_fn=progress)\n",
    "\n",
    "print(f'time to jit: {times[1] - times[0]}')\n",
    "print(f'time to train: {times[-1] - times[1]}')"
   ]
  },
  {
   "cell_type": "code",
   "execution_count": null,
   "id": "1462f66b-0261-4b4a-bca1-ffec09b931e7",
   "metadata": {},
   "outputs": [],
   "source": [
    "# # initialize the state\n",
    "# state = jit_reset(jax.random.PRNGKey(0))\n",
    "# rollout = [state.pipeline_state]\n",
    "\n",
    "# # grab a trajectory\n",
    "# for i in range(10):\n",
    "#   ctrl = -0.1 * jp.ones(env.sys.nu)\n",
    "#   state = jit_step(state, ctrl)\n",
    "#   rollout.append(state.pipeline_state)\n",
    "\n",
    "# media.show_video(env.render(rollout), fps=1.0 / env.dt)"
   ]
  },
  {
   "cell_type": "code",
   "execution_count": null,
   "id": "81e34ef9-781a-409a-9d2f-9bb7f10aaa6e",
   "metadata": {},
   "outputs": [],
   "source": [
    "model.save_params('/tmp/params', params)\n",
    "params = model.load_params('/tmp/params')\n",
    "inference_fn = make_inference_fn(params)"
   ]
  },
  {
   "cell_type": "code",
   "execution_count": null,
   "id": "e3bc5be1-6171-4f47-b474-0357dd538810",
   "metadata": {},
   "outputs": [],
   "source": []
  }
 ],
 "metadata": {
  "kernelspec": {
   "display_name": "Python 3 (ipykernel)",
   "language": "python",
   "name": "python3"
  },
  "language_info": {
   "codemirror_mode": {
    "name": "ipython",
    "version": 3
   },
   "file_extension": ".py",
   "mimetype": "text/x-python",
   "name": "python",
   "nbconvert_exporter": "python",
   "pygments_lexer": "ipython3",
   "version": "3.12.1"
  }
 },
 "nbformat": 4,
 "nbformat_minor": 5
}
