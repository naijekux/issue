{
 "cells": [
  {
   "cell_type": "code",
   "execution_count": null,
   "id": "f45842ca-f415-4884-acf3-b2ede508d5fa",
   "metadata": {},
   "outputs": [],
   "source": [
    "#@title Check if MuJoCo installation was successful\n",
    "\n",
    "import distutils.util\n",
    "import os\n",
    "import subprocess\n",
    "if subprocess.run('nvidia-smi').returncode:\n",
    "  raise RuntimeError(\n",
    "      'Cannot communicate with GPU. '\n",
    "      'Make sure you are using a GPU Colab runtime. '\n",
    "      'Go to the Runtime menu and select Choose runtime type.')\n",
    "\n",
    "# Add an ICD config so that glvnd can pick up the Nvidia EGL driver.\n",
    "# This is usually installed as part of an Nvidia driver package, but the Colab\n",
    "# kernel doesn't install its driver via APT, and as a result the ICD is missing.\n",
    "# (https://github.com/NVIDIA/libglvnd/blob/master/src/EGL/icd_enumeration.md)\n",
    "NVIDIA_ICD_CONFIG_PATH = '/usr/share/glvnd/egl_vendor.d/10_nvidia.json'\n",
    "if not os.path.exists(NVIDIA_ICD_CONFIG_PATH):\n",
    "  with open(NVIDIA_ICD_CONFIG_PATH, 'w') as f:\n",
    "    f.write(\"\"\"{\n",
    "    \"file_format_version\" : \"1.0.0\",\n",
    "    \"ICD\" : {\n",
    "        \"library_path\" : \"libEGL_nvidia.so.0\"\n",
    "    }\n",
    "}\n",
    "\"\"\")\n",
    "\n",
    "# Configure MuJoCo to use the EGL rendering backend (requires GPU)\n",
    "print('Setting environment variable to use GPU rendering:')\n",
    "%env MUJOCO_GL=egl\n",
    "\n",
    "try:\n",
    "  print('Checking that the installation succeeded:')\n",
    "  import mujoco\n",
    "  mujoco.MjModel.from_xml_string('<mujoco/>')\n",
    "except Exception as e:\n",
    "  raise e from RuntimeError(\n",
    "      'Something went wrong during installation. Check the shell output above '\n",
    "      'for more information.\\n'\n",
    "      'If using a hosted Colab runtime, make sure you enable GPU acceleration '\n",
    "      'by going to the Runtime menu and selecting \"Choose runtime type\".')\n",
    "\n",
    "print('Installation successful.')\n",
    "print('Nvidia CUDA Compiler:')\n",
    "!nvcc --version"
   ]
  },
  {
   "cell_type": "code",
   "execution_count": 2,
   "id": "e92b9a13-c933-4bd6-88c0-08bfc3d1c9a8",
   "metadata": {},
   "outputs": [],
   "source": [
    "#@title Import packages for plotting and creating graphics\n",
    "import time\n",
    "import itertools\n",
    "import numpy as np\n",
    "from typing import Callable, NamedTuple, Optional, Union, List\n",
    "\n",
    "import mediapy as media\n",
    "import matplotlib.pyplot as plt\n",
    "\n",
    "# More legible printing from numpy.\n",
    "np.set_printoptions(precision=3, suppress=True, linewidth=100)\n",
    "\n",
    "#@title Import MuJoCo, MJX, and Brax\n",
    "from datetime import datetime\n",
    "import functools\n",
    "from IPython.display import HTML\n",
    "import jax\n",
    "from jax import numpy as jp\n",
    "from jax import config, debug\n",
    "config.update(\"jax_debug_nans\", True)\n",
    "# config.update('jax_default_matmul_precision', jax.lax.Precision.HIGH)\n",
    "import numpy as np\n",
    "from typing import Any, Dict, Sequence, Tuple, Union\n",
    "\n",
    "from brax import base\n",
    "from brax import envs\n",
    "from brax import math\n",
    "from brax.base import Base, Motion, Transform\n",
    "from brax.envs.base import Env, PipelineEnv, State\n",
    "from brax.mjx.base import State as MjxState\n",
    "from brax.training.agents.ppo import train as ppo\n",
    "from brax.training.agents.ppo import networks as ppo_networks\n",
    "from brax.io import html, mjcf, model\n",
    "\n",
    "from etils import epath\n",
    "from flax import struct\n",
    "from matplotlib import pyplot as plt\n",
    "import mediapy as media\n",
    "from ml_collections import config_dict\n",
    "import mujoco\n",
    "from mujoco import mjx\n",
    "\n",
    "import os\n",
    "# os.environ[\"XLA_PYTHON_CLIENT_MEM_FRACTION\"]=\".50\""
   ]
  },
  {
   "cell_type": "markdown",
   "id": "302634c7-0a80-4aeb-aaef-9527d4f9e2a7",
   "metadata": {},
   "source": [
    "## Visualize Panda Robot"
   ]
  },
  {
   "cell_type": "code",
   "execution_count": 3,
   "id": "a1b8be53-191a-4a19-b053-b990f59a34db",
   "metadata": {},
   "outputs": [
    {
     "data": {
      "text/html": [
       "<table class=\"show_images\" style=\"border-spacing:0px;\"><tr><td style=\"padding:1px;\"><img width=\"320\" height=\"240\" style=\"image-rendering:auto; object-fit:cover;\" src=\"data:image/png;base64,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\"/></td></tr></table>"
      ],
      "text/plain": [
       "<IPython.core.display.HTML object>"
      ]
     },
     "metadata": {},
     "output_type": "display_data"
    }
   ],
   "source": [
    "model = mujoco.MjModel.from_xml_path(\"panda_nohand.xml\")\n",
    "data = mujoco.MjData(model)\n",
    "\n",
    "renderer = mujoco.Renderer(model)\n",
    "mujoco.mj_step(model, data)\n",
    "\n",
    "renderer.update_scene(data)\n",
    "media.show_image(renderer.render())"
   ]
  },
  {
   "cell_type": "code",
   "execution_count": 4,
   "id": "1913e775-b13b-4640-aac7-4ea08351b5b6",
   "metadata": {},
   "outputs": [
    {
     "data": {
      "text/html": [
       "<table class=\"show_images\" style=\"border-spacing:0px;\"><tr><td style=\"padding:1px;\"><img width=\"320\" height=\"240\" style=\"image-rendering:auto; object-fit:cover;\" src=\"data:image/png;base64,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\"/></td></tr></table>"
      ],
      "text/plain": [
       "<IPython.core.display.HTML object>"
      ]
     },
     "metadata": {},
     "output_type": "display_data"
    }
   ],
   "source": [
    "# Change integrator to RK4, because conversion to mjx is not possible for default implicit \n",
    "model.opt.integrator = mujoco.mjtIntegrator.mjINT_RK4\n",
    "# Create MJX instances from MuJoCo\n",
    "mjx_model = mjx.put_model(model)\n",
    "mjx_data = mjx.put_data(model, data)\n",
    "\n",
    "render_mjx_data = mjx.get_data(model, mjx_data)\n",
    "renderer.update_scene(render_mjx_data) \n",
    "media.show_image(renderer.render())"
   ]
  },
  {
   "cell_type": "markdown",
   "id": "b4367522-e13b-475a-b114-44dbb8209856",
   "metadata": {},
   "source": [
    "## Create MJX Environment for RL"
   ]
  },
  {
   "cell_type": "code",
   "execution_count": 5,
   "id": "785cc6b4-d12e-4ea8-86b9-62e302e3a219",
   "metadata": {},
   "outputs": [],
   "source": [
    "class FrankaEnv(PipelineEnv):\n",
    "\n",
    "    def __init__(\n",
    "        self,\n",
    "        **kwargs,\n",
    "        ):\n",
    "        model_path =\"panda_nohand.xml\"\n",
    "        # xml_models/franka_emika_panda/panda_nohand_test.xml \n",
    "        # xml_models/panda/robot.xml        \n",
    "        mj_model = mujoco.MjModel.from_xml_path(model_path)\n",
    "        mj_model.opt.solver = mujoco.mjtSolver.mjSOL_CG\n",
    "        mj_model.opt.iterations = 6\n",
    "        mj_model.opt.ls_iterations = 6\n",
    "        mj_model.opt.integrator = mujoco.mjtIntegrator.mjINT_RK4\n",
    "        sys = mjcf.load_model(mj_model)\n",
    "        \n",
    "        physics_steps_per_control_step = 5\n",
    "        kwargs['n_frames'] = kwargs.get(\n",
    "                'n_frames', physics_steps_per_control_step)\n",
    "        kwargs['backend'] = 'mjx'\n",
    "\n",
    "        super().__init__(sys, **kwargs)\n",
    "        \n",
    "    \n",
    "    def reset(self, rng: jp.ndarray) -> State:\n",
    "        \"\"\"Resets the environment to an initial state.\"\"\"\n",
    "        rng, rng1, rng2 = jax.random.split(rng, 3)\n",
    "        \n",
    "        qpos = self.sys.qpos0\n",
    "\n",
    "        goal_pos = jp.asarray([0.0, 0.0])\n",
    "        cylinder_pos = jp.concatenate([\n",
    "                    jax.random.uniform(rng, (1,), minval=-0.2, maxval=-1e-6),\n",
    "                    jax.random.uniform(rng1, (1,), minval=-0.15, maxval=0.15),\n",
    "        ])\n",
    "        norm = jp.linalg.norm(cylinder_pos - goal_pos)\n",
    "        scale = jp.where(norm < 0.17, 0.17 / norm, 1.0)\n",
    "        cylinder_pos *= scale\n",
    "        \n",
    "        qpos = qpos.at[-4:].set(jp.concatenate([cylinder_pos, goal_pos]))\n",
    "        \n",
    "        qvel = jax.random.uniform(rng2, (self.sys.nv,), minval=-0.005, maxval=0.005)\n",
    "        qvel = qvel.at[-4:].set(0.0)\n",
    "        \n",
    "        data = self.pipeline_init(qpos, qvel)\n",
    "        obs = self._get_obs(data)\n",
    "        reward, done, zero = jp.zeros(3)\n",
    "        metrics = {\n",
    "            \"reward_dist\": zero,\n",
    "            \"reward_ctrl\": zero,\n",
    "            \"reward_near\": zero,\n",
    "        }\n",
    "        # print('reset')\n",
    "        return State(data, obs, reward, done, metrics)\n",
    "    \n",
    "\n",
    "    \n",
    "    def step(self, state: State, action: jp.ndarray) -> State:\n",
    "        data0 = state.pipeline_state\n",
    "\n",
    "        vec_1 = data0.xpos[-2,:] - data0.xpos[-3,:]\n",
    "        vec_2 = data0.xpos[-2,:] - data0.xpos[-1,:]\n",
    "        reward_near = -jp.linalg.norm(vec_1)\n",
    "        reward_dist = -jp.linalg.norm(vec_2)\n",
    "        reward_ctrl = -jp.square(action).sum()\n",
    "        reward = reward_dist + 0.1 * reward_ctrl + 0.5 * reward_near\n",
    "        \n",
    "        data = self.pipeline_step(state.pipeline_state, action)\n",
    "\n",
    "        obs = self._get_obs(data)\n",
    "        \n",
    "        state.metrics.update(\n",
    "            reward_dist = reward_dist,\n",
    "            reward_ctrl = reward_ctrl,\n",
    "            reward_near = reward_near,         \n",
    "        )\n",
    "        # print('step ends')\n",
    "        # debug.print(\"vec_1:{x}\",x=vec_1)\n",
    "        # debug.print(\"reward_near:{x}\",x=reward_near)\n",
    "        # debug.print(\"q:{x}\",x=data.qpos[:7])\n",
    "        # debug.print(\"goal_pos:{x}\",x=data0.xpos[-1,:])\n",
    "        return state.replace(pipeline_state=data, obs=obs, reward=reward)\n",
    "\n",
    "    def _get_obs(self, data: mjx.Data) -> jp.ndarray:\n",
    "        return jp.concatenate([\n",
    "            data.qpos[:7],\n",
    "            data.qvel[:7],\n",
    "            data.xpos[-3,:],                       # attachment #\n",
    "            data.xpos[-2,:],                       # object #\n",
    "            data.xpos[-1,:],                       # goal #\n",
    "        ])\n",
    "        \n",
    "envs.register_environment('frankaenv', FrankaEnv)"
   ]
  },
  {
   "cell_type": "code",
   "execution_count": 6,
   "id": "a79ee254-016f-4b3d-9180-384f7609f65f",
   "metadata": {},
   "outputs": [],
   "source": [
    "# instantiate the environment\n",
    "env_name = 'frankaenv'\n",
    "env = envs.get_environment(env_name)\n",
    "\n",
    "# define the jit reset/step functions\n",
    "jit_reset = jax.jit(env.reset)\n",
    "jit_step = jax.jit(env.step)"
   ]
  },
  {
   "cell_type": "code",
   "execution_count": 16,
   "id": "3dd2896a-4ff5-4aa8-9b3f-de47bea4ac1d",
   "metadata": {},
   "outputs": [
    {
     "data": {
      "image/png": "[encoded data removed]",
      "text/plain": [
       "<Figure size 640x480 with 1 Axes>"
      ]
     },
     "metadata": {},
     "output_type": "display_data"
    }
   ],
   "source": [
    "train_fn = functools.partial(\n",
    "    ppo.train, num_timesteps=50_000_000, num_evals=20, reward_scaling=5, \n",
    "    episode_length=1000, normalize_observations=True, action_repeat=1, \n",
    "    unroll_length=30, num_minibatches=16, num_updates_per_batch=8, \n",
    "    discounting=0.95, learning_rate=3e-4, entropy_cost=1e-2, num_envs=2048, \n",
    "    batch_size=512, seed=3)\n",
    "\n",
    "\n",
    "x_data = []\n",
    "y_data = []\n",
    "ydataerr = []\n",
    "times = [datetime.now()]\n",
    "\n",
    "max_y, min_y = 0, -1000\n",
    "def progress(num_steps, metrics):\n",
    "  times.append(datetime.now())\n",
    "  x_data.append(num_steps)\n",
    "  y_data.append(metrics['eval/episode_reward'])\n",
    "  ydataerr.append(metrics['eval/episode_reward_std'])\n",
    "\n",
    "  plt.xlim([0, train_fn.keywords['num_timesteps'] * 1.25])\n",
    "  plt.ylim([min_y, max_y])\n",
    "\n",
    "  plt.xlabel('# environment steps')\n",
    "  plt.ylabel('reward per episode')\n",
    "  plt.title(f'y={y_data[-1]:.3f}')\n",
    "\n",
    "  plt.errorbar(\n",
    "      x_data, y_data, yerr=ydataerr)\n",
    "  plt.show()\n",
    "\n",
    "make_inference_fn, params, _= train_fn(environment=env, progress_fn=progress)\n",
    "\n",
    "print(f'time to jit: {times[1] - times[0]}')\n",
    "print(f'time to train: {times[-1] - times[1]}')"
   ]
  },
  {
   "cell_type": "code",
   "execution_count": null,
   "id": "1462f66b-0261-4b4a-bca1-ffec09b931e7",
   "metadata": {},
   "outputs": [],
   "source": [
    "# # initialize the state\n",
    "# state = jit_reset(jax.random.PRNGKey(0))\n",
    "# rollout = [state.pipeline_state]\n",
    "\n",
    "# # grab a trajectory\n",
    "# for i in range(10):\n",
    "#   ctrl = -0.1 * jp.ones(env.sys.nu)\n",
    "#   state = jit_step(state, ctrl)\n",
    "#   rollout.append(state.pipeline_state)\n",
    "\n",
    "# media.show_video(env.render(rollout), fps=1.0 / env.dt)"
   ]
  },
  {
   "cell_type": "code",
   "execution_count": null,
   "id": "81e34ef9-781a-409a-9d2f-9bb7f10aaa6e",
   "metadata": {},
   "outputs": [],
   "source": [
    "model.save_params('/tmp/params', params)\n",
    "params = model.load_params('/tmp/params')\n",
    "inference_fn = make_inference_fn(params)"
   ]
  },
  {
   "cell_type": "code",
   "execution_count": null,
   "id": "e3bc5be1-6171-4f47-b474-0357dd538810",
   "metadata": {},
   "outputs": [],
   "source": []
  }
 ],
 "metadata": {
  "kernelspec": {
   "display_name": "Python 3 (ipykernel)",
   "language": "python",
   "name": "python3"
  },
  "language_info": {
   "codemirror_mode": {
    "name": "ipython",
    "version": 3
   },
   "file_extension": ".py",
   "mimetype": "text/x-python",
   "name": "python",
   "nbconvert_exporter": "python",
   "pygments_lexer": "ipython3",
   "version": "3.12.1"
  }
 },
 "nbformat": 4,
 "nbformat_minor": 5
}
